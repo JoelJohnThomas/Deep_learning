{
  "nbformat": 4,
  "nbformat_minor": 0,
  "metadata": {
    "colab": {
      "provenance": []
    },
    "kernelspec": {
      "name": "python3",
      "display_name": "Python 3"
    },
    "language_info": {
      "name": "python"
    }
  },
  "cells": [
    {
      "cell_type": "code",
      "execution_count": null,
      "metadata": {
        "colab": {
          "base_uri": "https://localhost:8080/"
        },
        "id": "Th005jSPzVtO",
        "outputId": "f74a9b25-1178-473b-aae4-42f4e120be40"
      },
      "outputs": [
        {
          "output_type": "stream",
          "name": "stdout",
          "text": [
            "Downloading data from https://www.cs.toronto.edu/~kriz/cifar-100-python.tar.gz\n",
            "169001437/169001437 [==============================] - 4s 0us/step\n"
          ]
        }
      ],
      "source": [
        "import tensorflow as tf\n",
        "from tensorflow.keras.datasets import cifar100\n",
        "from sklearn.model_selection import train_test_split\n",
        "from tensorflow.keras.applications import DenseNet121\n",
        "from tensorflow.keras.models import Model\n",
        "from tensorflow.keras.layers import Dense, GlobalAveragePooling2D\n",
        "\n",
        "# Load CIFAR-100 data\n",
        "(x_train_full, y_train_full), (x_test, y_test) = cifar100.load_data()\n",
        "\n",
        "# Split the data into train and validation sets\n",
        "x_train, x_val, y_train, y_val = train_test_split(x_train_full, y_train_full, test_size=0.2, random_state=56)\n",
        "\n",
        "# Normalize pixel values\n",
        "x_train = x_train.astype('float32') / 255.0\n",
        "x_val = x_val.astype('float32') / 255.0\n",
        "x_test = x_test.astype('float32') / 255.0\n",
        "\n",
        "# Convert labels to one-hot encoded vectors\n",
        "y_train = tf.keras.utils.to_categorical(y_train, 100)\n",
        "y_val = tf.keras.utils.to_categorical(y_val, 100)\n",
        "y_test = tf.keras.utils.to_categorical(y_test, 100)\n",
        "\n",
        "# Create DenseNet model\n",
        "base_model = DenseNet121(weights=None, include_top=False, input_shape=(32, 32, 3))\n",
        "\n",
        "x = GlobalAveragePooling2D()(base_model.output)\n",
        "x = Dense(100, activation='softmax')(x)\n",
        "\n",
        "model = Model(inputs=base_model.input, outputs=x)\n",
        "\n",
        "# Compile the model\n",
        "model.compile(optimizer='adam', loss='categorical_crossentropy', metrics=['accuracy'])"
      ]
    },
    {
      "cell_type": "code",
      "source": [
        "\n",
        "\n",
        "# Train the model\n",
        "model.fit(x_train, y_train, batch_size=100, epochs=10, validation_data=(x_val, y_val))\n"
      ],
      "metadata": {
        "colab": {
          "base_uri": "https://localhost:8080/"
        },
        "id": "1FgvV_BCzpmn",
        "outputId": "5d76be86-07b9-4d90-e752-734bac9995cf"
      },
      "execution_count": null,
      "outputs": [
        {
          "output_type": "stream",
          "name": "stdout",
          "text": [
            "Epoch 1/10\n",
            "400/400 [==============================] - 101s 87ms/step - loss: 3.7547 - accuracy: 0.1346 - val_loss: 5.0259 - val_accuracy: 0.0558\n",
            "Epoch 2/10\n",
            "400/400 [==============================] - 33s 82ms/step - loss: 3.0066 - accuracy: 0.2547 - val_loss: 3.2588 - val_accuracy: 0.2227\n",
            "Epoch 3/10\n",
            "400/400 [==============================] - 32s 81ms/step - loss: 2.5809 - accuracy: 0.3323 - val_loss: 3.5468 - val_accuracy: 0.2064\n",
            "Epoch 4/10\n",
            "400/400 [==============================] - 32s 79ms/step - loss: 2.2583 - accuracy: 0.4020 - val_loss: 2.8300 - val_accuracy: 0.3041\n",
            "Epoch 5/10\n",
            "400/400 [==============================] - 32s 81ms/step - loss: 1.9836 - accuracy: 0.4597 - val_loss: 2.7088 - val_accuracy: 0.3300\n",
            "Epoch 6/10\n",
            "400/400 [==============================] - 32s 79ms/step - loss: 1.7556 - accuracy: 0.5110 - val_loss: 2.5425 - val_accuracy: 0.3649\n",
            "Epoch 7/10\n",
            "400/400 [==============================] - 34s 84ms/step - loss: 1.5156 - accuracy: 0.5674 - val_loss: 3.2546 - val_accuracy: 0.2903\n",
            "Epoch 8/10\n",
            "400/400 [==============================] - 33s 82ms/step - loss: 1.2884 - accuracy: 0.6241 - val_loss: 3.1932 - val_accuracy: 0.3318\n",
            "Epoch 9/10\n",
            "400/400 [==============================] - 32s 81ms/step - loss: 1.0574 - accuracy: 0.6851 - val_loss: 2.9422 - val_accuracy: 0.3575\n",
            "Epoch 10/10\n",
            "400/400 [==============================] - 34s 86ms/step - loss: 0.8607 - accuracy: 0.7400 - val_loss: 3.4529 - val_accuracy: 0.3261\n"
          ]
        },
        {
          "output_type": "execute_result",
          "data": {
            "text/plain": [
              "<keras.src.callbacks.History at 0x7d13292aa3b0>"
            ]
          },
          "metadata": {},
          "execution_count": 2
        }
      ]
    },
    {
      "cell_type": "code",
      "source": [
        "# Evaluate the model on the test set\n",
        "loss, accuracy = model.evaluate(x_test,y_test)\n",
        "print(f'Test accuracy: {accuracy}')"
      ],
      "metadata": {
        "colab": {
          "base_uri": "https://localhost:8080/"
        },
        "id": "qi3AEpFM6NMK",
        "outputId": "0a27e059-4842-4719-a83d-c46a979701ef"
      },
      "execution_count": null,
      "outputs": [
        {
          "output_type": "stream",
          "name": "stdout",
          "text": [
            "313/313 [==============================] - 8s 17ms/step - loss: 3.4501 - accuracy: 0.3297\n",
            "Test accuracy: 0.3296999931335449\n"
          ]
        }
      ]
    },
    {
      "cell_type": "code",
      "source": [
        "import tensorflow as tf\n",
        "from tensorflow.keras.datasets import cifar100\n",
        "from sklearn.model_selection import train_test_split\n",
        "from tensorflow.keras.applications import DenseNet121\n",
        "from tensorflow.keras.models import Model\n",
        "from tensorflow.keras.layers import Dense, GlobalAveragePooling2D\n",
        "\n",
        "# Load CIFAR-100 data\n",
        "(x_train_full, y_train_full), (x_test, y_test) = cifar100.load_data()\n",
        "\n",
        "# Split the data into train and validation sets\n",
        "x_train, x_val, y_train, y_val = train_test_split(x_train_full, y_train_full, test_size=0.2, random_state=14)\n",
        "\n",
        "# Normalize pixel values\n",
        "x_train = x_train.astype('float32') / 255.0\n",
        "x_val = x_val.astype('float32') / 255.0\n",
        "x_test = x_test.astype('float32') / 255.0\n",
        "\n",
        "# Convert labels to one-hot encoded vectors\n",
        "y_train = tf.keras.utils.to_categorical(y_train, 100)\n",
        "y_val = tf.keras.utils.to_categorical(y_val, 100)\n",
        "y_test = tf.keras.utils.to_categorical(y_test, 100)\n",
        "\n",
        "# Create DenseNet model\n",
        "base_model = DenseNet121(weights=None, include_top=False, input_shape=(32, 32, 3))\n",
        "\n",
        "x = GlobalAveragePooling2D()(base_model.output)\n",
        "x = Dense(100, activation='softmax')(x)\n",
        "\n",
        "model = Model(inputs=base_model.input, outputs=x)\n",
        "\n",
        "# Compile the model\n",
        "model.compile(optimizer='adam', loss='categorical_crossentropy', metrics=['accuracy'])"
      ],
      "metadata": {
        "id": "BbymazuP6ZFZ"
      },
      "execution_count": null,
      "outputs": []
    },
    {
      "cell_type": "code",
      "source": [
        "\n",
        "\n",
        "# Train the model\n",
        "model.fit(x_train, y_train, batch_size=100, epochs=20, validation_data=(x_val, y_val))\n"
      ],
      "metadata": {
        "colab": {
          "base_uri": "https://localhost:8080/"
        },
        "id": "p2ep04BM6ZKq",
        "outputId": "9709f9a5-2e14-495f-ce9f-56a14a250727"
      },
      "execution_count": null,
      "outputs": [
        {
          "output_type": "stream",
          "name": "stdout",
          "text": [
            "Epoch 1/20\n",
            "400/400 [==============================] - 89s 92ms/step - loss: 3.7082 - accuracy: 0.1380 - val_loss: 4.3764 - val_accuracy: 0.0720\n",
            "Epoch 2/20\n",
            "400/400 [==============================] - 34s 86ms/step - loss: 2.9928 - accuracy: 0.2582 - val_loss: 3.2705 - val_accuracy: 0.2237\n",
            "Epoch 3/20\n",
            "400/400 [==============================] - 34s 84ms/step - loss: 2.5477 - accuracy: 0.3399 - val_loss: 3.2480 - val_accuracy: 0.2385\n",
            "Epoch 4/20\n",
            "400/400 [==============================] - 33s 83ms/step - loss: 2.2392 - accuracy: 0.4065 - val_loss: 3.3754 - val_accuracy: 0.2551\n",
            "Epoch 5/20\n",
            "400/400 [==============================] - 32s 80ms/step - loss: 1.9853 - accuracy: 0.4608 - val_loss: 3.0327 - val_accuracy: 0.2991\n",
            "Epoch 6/20\n",
            "400/400 [==============================] - 33s 82ms/step - loss: 1.7496 - accuracy: 0.5163 - val_loss: 2.8694 - val_accuracy: 0.3128\n",
            "Epoch 7/20\n",
            "400/400 [==============================] - 32s 80ms/step - loss: 1.5285 - accuracy: 0.5678 - val_loss: 3.0720 - val_accuracy: 0.3195\n",
            "Epoch 8/20\n",
            "400/400 [==============================] - 33s 83ms/step - loss: 1.3003 - accuracy: 0.6229 - val_loss: 2.7018 - val_accuracy: 0.3703\n",
            "Epoch 9/20\n",
            "400/400 [==============================] - 34s 84ms/step - loss: 1.0711 - accuracy: 0.6812 - val_loss: 3.6511 - val_accuracy: 0.3011\n",
            "Epoch 10/20\n",
            "400/400 [==============================] - 33s 82ms/step - loss: 0.8697 - accuracy: 0.7347 - val_loss: 3.1589 - val_accuracy: 0.3566\n",
            "Epoch 11/20\n",
            "400/400 [==============================] - 32s 79ms/step - loss: 0.6688 - accuracy: 0.7945 - val_loss: 3.1784 - val_accuracy: 0.3775\n",
            "Epoch 12/20\n",
            "400/400 [==============================] - 34s 84ms/step - loss: 0.5224 - accuracy: 0.8359 - val_loss: 3.6872 - val_accuracy: 0.3339\n",
            "Epoch 13/20\n",
            "400/400 [==============================] - 33s 82ms/step - loss: 0.4052 - accuracy: 0.8712 - val_loss: 3.6540 - val_accuracy: 0.3682\n",
            "Epoch 14/20\n",
            "400/400 [==============================] - 32s 79ms/step - loss: 0.3481 - accuracy: 0.8871 - val_loss: 3.5855 - val_accuracy: 0.3810\n",
            "Epoch 15/20\n",
            "400/400 [==============================] - 33s 82ms/step - loss: 0.2895 - accuracy: 0.9058 - val_loss: 3.6892 - val_accuracy: 0.3881\n",
            "Epoch 16/20\n",
            "400/400 [==============================] - 34s 85ms/step - loss: 0.2604 - accuracy: 0.9155 - val_loss: 3.9882 - val_accuracy: 0.3603\n",
            "Epoch 17/20\n",
            "400/400 [==============================] - 32s 80ms/step - loss: 0.2268 - accuracy: 0.9257 - val_loss: 3.9607 - val_accuracy: 0.3734\n",
            "Epoch 18/20\n",
            "400/400 [==============================] - 33s 83ms/step - loss: 0.2111 - accuracy: 0.9308 - val_loss: 4.1638 - val_accuracy: 0.3782\n",
            "Epoch 19/20\n",
            "400/400 [==============================] - 33s 81ms/step - loss: 0.2073 - accuracy: 0.9313 - val_loss: 4.1623 - val_accuracy: 0.3843\n",
            "Epoch 20/20\n",
            "400/400 [==============================] - 34s 85ms/step - loss: 0.2019 - accuracy: 0.9342 - val_loss: 4.0489 - val_accuracy: 0.4054\n"
          ]
        },
        {
          "output_type": "execute_result",
          "data": {
            "text/plain": [
              "<keras.src.callbacks.History at 0x7d1321249930>"
            ]
          },
          "metadata": {},
          "execution_count": 9
        }
      ]
    },
    {
      "cell_type": "code",
      "source": [
        "# Evaluate the model on the test set\n",
        "loss, accuracy = model.evaluate(x_test,y_test)\n",
        "print(f'Test accuracy: {accuracy}')"
      ],
      "metadata": {
        "colab": {
          "base_uri": "https://localhost:8080/"
        },
        "id": "GePX10V36ZNQ",
        "outputId": "d087f71a-37f8-424c-ce8e-3005b8841af4"
      },
      "execution_count": null,
      "outputs": [
        {
          "output_type": "stream",
          "name": "stdout",
          "text": [
            "313/313 [==============================] - 6s 14ms/step - loss: 4.0106 - accuracy: 0.4047\n",
            "Test accuracy: 0.40470001101493835\n"
          ]
        }
      ]
    },
    {
      "cell_type": "code",
      "source": [
        "import tensorflow as tf\n",
        "from tensorflow.keras.datasets import cifar100\n",
        "from sklearn.model_selection import train_test_split\n",
        "from tensorflow.keras.applications import DenseNet121\n",
        "from tensorflow.keras.models import Model\n",
        "from tensorflow.keras.layers import Dense, GlobalAveragePooling2D\n",
        "\n",
        "# Load CIFAR-100 data\n",
        "(x_train_full, y_train_full), (x_test, y_test) = cifar100.load_data()\n",
        "\n",
        "# Split the data into train and validation sets\n",
        "x_train, x_val, y_train, y_val = train_test_split(x_train_full, y_train_full, test_size=0.2, random_state=15)\n",
        "\n",
        "# Normalize pixel values\n",
        "x_train = x_train.astype('float32') / 255.0\n",
        "x_val = x_val.astype('float32') / 255.0\n",
        "x_test = x_test.astype('float32') / 255.0\n",
        "\n",
        "# Convert labels to one-hot encoded vectors\n",
        "y_train = tf.keras.utils.to_categorical(y_train, 100)\n",
        "y_val = tf.keras.utils.to_categorical(y_val, 100)\n",
        "y_test = tf.keras.utils.to_categorical(y_test, 100)\n",
        "\n",
        "# Create DenseNet model\n",
        "base_model = DenseNet121(weights=None, include_top=False, input_shape=(32, 32, 3))\n",
        "\n",
        "x = GlobalAveragePooling2D()(base_model.output)\n",
        "x = Dense(100, activation='softmax')(x)\n",
        "\n",
        "model = Model(inputs=base_model.input, outputs=x)\n",
        "\n",
        "# Compile the model\n",
        "model.compile(optimizer='adam', loss='categorical_crossentropy', metrics=['accuracy'])"
      ],
      "metadata": {
        "colab": {
          "base_uri": "https://localhost:8080/"
        },
        "id": "nnoRy6GD6ZQN",
        "outputId": "f27f3474-3f3a-4681-9b4c-49fbeabc9de4"
      },
      "execution_count": null,
      "outputs": [
        {
          "output_type": "stream",
          "name": "stdout",
          "text": [
            "Downloading data from https://www.cs.toronto.edu/~kriz/cifar-100-python.tar.gz\n",
            "169001437/169001437 [==============================] - 3s 0us/step\n"
          ]
        }
      ]
    },
    {
      "cell_type": "code",
      "source": [],
      "metadata": {
        "id": "INNbE50CN-fi"
      },
      "execution_count": null,
      "outputs": []
    },
    {
      "cell_type": "code",
      "source": [],
      "metadata": {
        "id": "gjxtqc1SN-iZ"
      },
      "execution_count": null,
      "outputs": []
    },
    {
      "cell_type": "code",
      "source": [
        "\n",
        "\n",
        "# Train the model\n",
        "model.fit(x_train, y_train, batch_size=100, epochs=30, validation_data=(x_val, y_val))\n"
      ],
      "metadata": {
        "colab": {
          "base_uri": "https://localhost:8080/"
        },
        "id": "CaaLnU796ZSa",
        "outputId": "8aadd94c-8335-4fdb-e447-6bb53951fda7"
      },
      "execution_count": null,
      "outputs": [
        {
          "output_type": "stream",
          "name": "stdout",
          "text": [
            "Epoch 1/30\n",
            "400/400 [==============================] - 102s 87ms/step - loss: 3.7583 - accuracy: 0.1297 - val_loss: 4.2820 - val_accuracy: 0.0770\n",
            "Epoch 2/30\n",
            "400/400 [==============================] - 33s 82ms/step - loss: 3.0160 - accuracy: 0.2499 - val_loss: 4.2138 - val_accuracy: 0.1259\n",
            "Epoch 3/30\n",
            "400/400 [==============================] - 32s 79ms/step - loss: 2.6027 - accuracy: 0.3281 - val_loss: 3.4319 - val_accuracy: 0.2230\n",
            "Epoch 4/30\n",
            "400/400 [==============================] - 32s 79ms/step - loss: 2.2494 - accuracy: 0.4011 - val_loss: 3.1023 - val_accuracy: 0.2691\n",
            "Epoch 5/30\n",
            "400/400 [==============================] - 32s 79ms/step - loss: 1.9725 - accuracy: 0.4605 - val_loss: 3.1369 - val_accuracy: 0.2715\n",
            "Epoch 6/30\n",
            "400/400 [==============================] - 33s 81ms/step - loss: 1.7316 - accuracy: 0.5160 - val_loss: 3.0516 - val_accuracy: 0.2950\n",
            "Epoch 7/30\n",
            "400/400 [==============================] - 32s 79ms/step - loss: 1.5020 - accuracy: 0.5759 - val_loss: 3.0307 - val_accuracy: 0.3078\n",
            "Epoch 8/30\n",
            "400/400 [==============================] - 33s 83ms/step - loss: 1.2712 - accuracy: 0.6299 - val_loss: 3.0852 - val_accuracy: 0.3374\n",
            "Epoch 9/30\n",
            "400/400 [==============================] - 33s 81ms/step - loss: 1.0417 - accuracy: 0.6906 - val_loss: 2.7167 - val_accuracy: 0.3865\n",
            "Epoch 10/30\n",
            "400/400 [==============================] - 32s 81ms/step - loss: 0.8343 - accuracy: 0.7462 - val_loss: 2.8008 - val_accuracy: 0.4003\n",
            "Epoch 11/30\n",
            "400/400 [==============================] - 33s 82ms/step - loss: 0.6415 - accuracy: 0.7997 - val_loss: 3.2668 - val_accuracy: 0.3565\n",
            "Epoch 12/30\n",
            "400/400 [==============================] - 34s 84ms/step - loss: 0.4924 - accuracy: 0.8429 - val_loss: 3.8903 - val_accuracy: 0.3184\n",
            "Epoch 13/30\n",
            "400/400 [==============================] - 31s 79ms/step - loss: 0.3979 - accuracy: 0.8730 - val_loss: 3.3313 - val_accuracy: 0.4033\n",
            "Epoch 14/30\n",
            "400/400 [==============================] - 33s 82ms/step - loss: 0.3253 - accuracy: 0.8974 - val_loss: 3.8280 - val_accuracy: 0.3782\n",
            "Epoch 15/30\n",
            "400/400 [==============================] - 32s 80ms/step - loss: 0.2645 - accuracy: 0.9145 - val_loss: 3.7247 - val_accuracy: 0.4040\n",
            "Epoch 16/30\n",
            "400/400 [==============================] - 32s 80ms/step - loss: 0.2392 - accuracy: 0.9230 - val_loss: 4.1438 - val_accuracy: 0.3602\n",
            "Epoch 17/30\n",
            "400/400 [==============================] - 33s 82ms/step - loss: 0.2293 - accuracy: 0.9266 - val_loss: 3.8761 - val_accuracy: 0.3940\n",
            "Epoch 18/30\n",
            "400/400 [==============================] - 32s 79ms/step - loss: 0.2161 - accuracy: 0.9304 - val_loss: 3.9605 - val_accuracy: 0.3952\n",
            "Epoch 19/30\n",
            "400/400 [==============================] - 31s 78ms/step - loss: 0.1826 - accuracy: 0.9399 - val_loss: 3.9195 - val_accuracy: 0.4158\n",
            "Epoch 20/30\n",
            "400/400 [==============================] - 32s 79ms/step - loss: 0.1716 - accuracy: 0.9437 - val_loss: 4.0607 - val_accuracy: 0.4056\n",
            "Epoch 21/30\n",
            "400/400 [==============================] - 31s 78ms/step - loss: 0.1630 - accuracy: 0.9459 - val_loss: 3.9463 - val_accuracy: 0.4239\n",
            "Epoch 22/30\n",
            "400/400 [==============================] - 32s 80ms/step - loss: 0.1783 - accuracy: 0.9416 - val_loss: 4.2136 - val_accuracy: 0.4047\n",
            "Epoch 23/30\n",
            "400/400 [==============================] - 32s 81ms/step - loss: 0.1592 - accuracy: 0.9477 - val_loss: 4.5431 - val_accuracy: 0.3714\n",
            "Epoch 24/30\n",
            "400/400 [==============================] - 32s 79ms/step - loss: 0.1446 - accuracy: 0.9535 - val_loss: 4.2212 - val_accuracy: 0.4006\n",
            "Epoch 25/30\n",
            "400/400 [==============================] - 32s 79ms/step - loss: 0.1286 - accuracy: 0.9579 - val_loss: 5.5044 - val_accuracy: 0.3523\n",
            "Epoch 26/30\n",
            "400/400 [==============================] - 32s 79ms/step - loss: 0.1545 - accuracy: 0.9498 - val_loss: 4.2681 - val_accuracy: 0.4111\n",
            "Epoch 27/30\n",
            "400/400 [==============================] - 32s 80ms/step - loss: 0.1487 - accuracy: 0.9525 - val_loss: 4.3390 - val_accuracy: 0.4078\n",
            "Epoch 28/30\n",
            "400/400 [==============================] - 32s 80ms/step - loss: 0.1014 - accuracy: 0.9676 - val_loss: 4.2776 - val_accuracy: 0.4106\n",
            "Epoch 29/30\n",
            "400/400 [==============================] - 33s 82ms/step - loss: 0.1131 - accuracy: 0.9627 - val_loss: 5.2263 - val_accuracy: 0.3589\n",
            "Epoch 30/30\n",
            "400/400 [==============================] - 32s 80ms/step - loss: 0.1279 - accuracy: 0.9581 - val_loss: 4.8413 - val_accuracy: 0.3737\n"
          ]
        },
        {
          "output_type": "execute_result",
          "data": {
            "text/plain": [
              "<keras.src.callbacks.History at 0x7cfa72f12590>"
            ]
          },
          "metadata": {},
          "execution_count": 3
        }
      ]
    },
    {
      "cell_type": "code",
      "source": [
        "# Evaluate the model on the test set\n",
        "loss, accuracy = model.evaluate(x_test,y_test)\n",
        "print(f'Test accuracy: {accuracy}')"
      ],
      "metadata": {
        "colab": {
          "base_uri": "https://localhost:8080/"
        },
        "id": "2gNAvu9E6ZWp",
        "outputId": "23f09f19-afc8-4a33-8628-290477deaede"
      },
      "execution_count": null,
      "outputs": [
        {
          "output_type": "stream",
          "name": "stdout",
          "text": [
            "313/313 [==============================] - 8s 16ms/step - loss: 4.7497 - accuracy: 0.3860\n",
            "Test accuracy: 0.38600000739097595\n"
          ]
        }
      ]
    },
    {
      "cell_type": "code",
      "source": [
        "import tensorflow as tf\n",
        "from tensorflow.keras.datasets import cifar100\n",
        "from sklearn.model_selection import train_test_split\n",
        "from tensorflow.keras.applications import DenseNet121\n",
        "from tensorflow.keras.models import Model\n",
        "from tensorflow.keras.layers import Dense, GlobalAveragePooling2D\n",
        "\n",
        "# Load CIFAR-100 data\n",
        "(x_train_full, y_train_full), (x_test, y_test) = cifar100.load_data()\n",
        "\n",
        "# Split the data into train and validation sets\n",
        "x_train, x_val, y_train, y_val = train_test_split(x_train_full, y_train_full, test_size=0.2, random_state=18)\n",
        "\n",
        "# Normalize pixel values\n",
        "x_train = x_train.astype('float32') / 255.0\n",
        "x_val = x_val.astype('float32') / 255.0\n",
        "x_test = x_test.astype('float32') / 255.0\n",
        "\n",
        "# Convert labels to one-hot encoded vectors\n",
        "y_train = tf.keras.utils.to_categorical(y_train, 100)\n",
        "y_val = tf.keras.utils.to_categorical(y_val, 100)\n",
        "y_test = tf.keras.utils.to_categorical(y_test, 100)\n",
        "\n",
        "# Create DenseNet model\n",
        "base_model = DenseNet121(weights=None, include_top=False, input_shape=(32, 32, 3))\n",
        "\n",
        "x = GlobalAveragePooling2D()(base_model.output)\n",
        "x = Dense(100, activation='softmax')(x)\n",
        "\n",
        "model = Model(inputs=base_model.input, outputs=x)\n",
        "\n",
        "# Compile the model\n",
        "model.compile(optimizer='adam', loss='categorical_crossentropy', metrics=['accuracy'])"
      ],
      "metadata": {
        "id": "sTsxmXj96ZY5"
      },
      "execution_count": null,
      "outputs": []
    },
    {
      "cell_type": "code",
      "source": [
        "\n",
        "\n",
        "# Train the model\n",
        "model.fit(x_train, y_train, batch_size=100, epochs=40, validation_data=(x_val, y_val))\n"
      ],
      "metadata": {
        "colab": {
          "base_uri": "https://localhost:8080/"
        },
        "id": "joXbmkQ1N_5p",
        "outputId": "6addd367-c0a8-42f4-e6e0-2047098493fb"
      },
      "execution_count": null,
      "outputs": [
        {
          "output_type": "stream",
          "name": "stdout",
          "text": [
            "Epoch 1/40\n",
            "400/400 [==============================] - 86s 88ms/step - loss: 3.7424 - accuracy: 0.1337 - val_loss: 4.2445 - val_accuracy: 0.0717\n",
            "Epoch 2/40\n",
            "400/400 [==============================] - 33s 82ms/step - loss: 3.0127 - accuracy: 0.2521 - val_loss: 4.1789 - val_accuracy: 0.1506\n",
            "Epoch 3/40\n",
            "400/400 [==============================] - 32s 81ms/step - loss: 2.5638 - accuracy: 0.3353 - val_loss: 3.3437 - val_accuracy: 0.2261\n",
            "Epoch 4/40\n",
            "400/400 [==============================] - 32s 80ms/step - loss: 2.2433 - accuracy: 0.4032 - val_loss: 3.0533 - val_accuracy: 0.2720\n",
            "Epoch 5/40\n",
            "400/400 [==============================] - 33s 83ms/step - loss: 1.9654 - accuracy: 0.4642 - val_loss: 3.0931 - val_accuracy: 0.2864\n",
            "Epoch 6/40\n",
            "400/400 [==============================] - 31s 79ms/step - loss: 1.7347 - accuracy: 0.5196 - val_loss: 2.8060 - val_accuracy: 0.3154\n",
            "Epoch 7/40\n",
            "400/400 [==============================] - 33s 83ms/step - loss: 1.5158 - accuracy: 0.5705 - val_loss: 3.1024 - val_accuracy: 0.3142\n",
            "Epoch 8/40\n",
            "400/400 [==============================] - 33s 82ms/step - loss: 1.2900 - accuracy: 0.6273 - val_loss: 2.7096 - val_accuracy: 0.3689\n",
            "Epoch 9/40\n",
            "400/400 [==============================] - 32s 81ms/step - loss: 1.0679 - accuracy: 0.6841 - val_loss: 4.0797 - val_accuracy: 0.2691\n",
            "Epoch 10/40\n",
            "400/400 [==============================] - 32s 81ms/step - loss: 0.8480 - accuracy: 0.7415 - val_loss: 2.8550 - val_accuracy: 0.3895\n",
            "Epoch 11/40\n",
            "400/400 [==============================] - 33s 82ms/step - loss: 0.6593 - accuracy: 0.7961 - val_loss: 3.7317 - val_accuracy: 0.3188\n",
            "Epoch 12/40\n",
            "400/400 [==============================] - 32s 80ms/step - loss: 0.5222 - accuracy: 0.8324 - val_loss: 3.1747 - val_accuracy: 0.3995\n",
            "Epoch 13/40\n",
            "400/400 [==============================] - 31s 78ms/step - loss: 0.3922 - accuracy: 0.8749 - val_loss: 3.4850 - val_accuracy: 0.3769\n",
            "Epoch 14/40\n",
            "400/400 [==============================] - 33s 83ms/step - loss: 0.3365 - accuracy: 0.8921 - val_loss: 3.3784 - val_accuracy: 0.4047\n",
            "Epoch 15/40\n",
            "400/400 [==============================] - 32s 80ms/step - loss: 0.2887 - accuracy: 0.9070 - val_loss: 4.1153 - val_accuracy: 0.3489\n",
            "Epoch 16/40\n",
            "400/400 [==============================] - 31s 79ms/step - loss: 0.2515 - accuracy: 0.9193 - val_loss: 3.7785 - val_accuracy: 0.3835\n",
            "Epoch 17/40\n",
            "400/400 [==============================] - 33s 83ms/step - loss: 0.2368 - accuracy: 0.9223 - val_loss: 3.9078 - val_accuracy: 0.3862\n",
            "Epoch 18/40\n",
            "400/400 [==============================] - 33s 81ms/step - loss: 0.2100 - accuracy: 0.9321 - val_loss: 3.7806 - val_accuracy: 0.4073\n",
            "Epoch 19/40\n",
            "400/400 [==============================] - 32s 81ms/step - loss: 0.2054 - accuracy: 0.9336 - val_loss: 3.9067 - val_accuracy: 0.4067\n",
            "Epoch 20/40\n",
            "400/400 [==============================] - 33s 81ms/step - loss: 0.1888 - accuracy: 0.9381 - val_loss: 4.2702 - val_accuracy: 0.3749\n",
            "Epoch 21/40\n",
            "400/400 [==============================] - 32s 80ms/step - loss: 0.1713 - accuracy: 0.9449 - val_loss: 4.0148 - val_accuracy: 0.4098\n",
            "Epoch 22/40\n",
            "400/400 [==============================] - 33s 81ms/step - loss: 0.1689 - accuracy: 0.9457 - val_loss: 4.2350 - val_accuracy: 0.4027\n",
            "Epoch 23/40\n",
            "400/400 [==============================] - 31s 79ms/step - loss: 0.1770 - accuracy: 0.9423 - val_loss: 4.1705 - val_accuracy: 0.4019\n",
            "Epoch 24/40\n",
            "400/400 [==============================] - 32s 80ms/step - loss: 0.1448 - accuracy: 0.9520 - val_loss: 5.1555 - val_accuracy: 0.3527\n",
            "Epoch 25/40\n",
            "400/400 [==============================] - 32s 79ms/step - loss: 0.1327 - accuracy: 0.9571 - val_loss: 4.2848 - val_accuracy: 0.4006\n",
            "Epoch 26/40\n",
            "400/400 [==============================] - 32s 81ms/step - loss: 0.1381 - accuracy: 0.9546 - val_loss: 4.1632 - val_accuracy: 0.4136\n",
            "Epoch 27/40\n",
            "400/400 [==============================] - 32s 81ms/step - loss: 0.1423 - accuracy: 0.9541 - val_loss: 3.9764 - val_accuracy: 0.4262\n",
            "Epoch 28/40\n",
            "400/400 [==============================] - 32s 80ms/step - loss: 0.1260 - accuracy: 0.9592 - val_loss: 4.5203 - val_accuracy: 0.3973\n",
            "Epoch 29/40\n",
            "400/400 [==============================] - 33s 82ms/step - loss: 0.1225 - accuracy: 0.9589 - val_loss: 4.2460 - val_accuracy: 0.4238\n",
            "Epoch 30/40\n",
            "400/400 [==============================] - 33s 83ms/step - loss: 0.1223 - accuracy: 0.9605 - val_loss: 4.2718 - val_accuracy: 0.4202\n",
            "Epoch 31/40\n",
            "400/400 [==============================] - 32s 80ms/step - loss: 0.1082 - accuracy: 0.9652 - val_loss: 4.1525 - val_accuracy: 0.4147\n",
            "Epoch 32/40\n",
            "400/400 [==============================] - 32s 81ms/step - loss: 0.1012 - accuracy: 0.9668 - val_loss: 4.7980 - val_accuracy: 0.3873\n",
            "Epoch 33/40\n",
            "400/400 [==============================] - 33s 84ms/step - loss: 0.1148 - accuracy: 0.9626 - val_loss: 4.5247 - val_accuracy: 0.4101\n",
            "Epoch 34/40\n",
            "400/400 [==============================] - 34s 84ms/step - loss: 0.1078 - accuracy: 0.9642 - val_loss: 4.5553 - val_accuracy: 0.3935\n",
            "Epoch 35/40\n",
            "400/400 [==============================] - 32s 81ms/step - loss: 0.0995 - accuracy: 0.9677 - val_loss: 4.6834 - val_accuracy: 0.4064\n",
            "Epoch 36/40\n",
            "400/400 [==============================] - 32s 80ms/step - loss: 0.1095 - accuracy: 0.9650 - val_loss: 4.4644 - val_accuracy: 0.4210\n",
            "Epoch 37/40\n",
            "400/400 [==============================] - 33s 82ms/step - loss: 0.1033 - accuracy: 0.9672 - val_loss: 4.2372 - val_accuracy: 0.4281\n",
            "Epoch 38/40\n",
            "400/400 [==============================] - 32s 80ms/step - loss: 0.0758 - accuracy: 0.9751 - val_loss: 4.5096 - val_accuracy: 0.4208\n",
            "Epoch 39/40\n",
            "400/400 [==============================] - 31s 78ms/step - loss: 0.0839 - accuracy: 0.9725 - val_loss: 6.6239 - val_accuracy: 0.2986\n",
            "Epoch 40/40\n",
            "400/400 [==============================] - 32s 79ms/step - loss: 0.0862 - accuracy: 0.9717 - val_loss: 4.6782 - val_accuracy: 0.4123\n"
          ]
        },
        {
          "output_type": "execute_result",
          "data": {
            "text/plain": [
              "<keras.src.callbacks.History at 0x7cfa78ede7d0>"
            ]
          },
          "metadata": {},
          "execution_count": 9
        }
      ]
    },
    {
      "cell_type": "code",
      "source": [
        "# Evaluate the model on the test set\n",
        "loss, accuracy = model.evaluate(x_test,y_test)\n",
        "print(f'Test accuracy: {accuracy}')"
      ],
      "metadata": {
        "colab": {
          "base_uri": "https://localhost:8080/"
        },
        "id": "wMfnamC3N_8M",
        "outputId": "de1f0451-8026-40fd-c6f5-e2b717373004"
      },
      "execution_count": null,
      "outputs": [
        {
          "output_type": "stream",
          "name": "stdout",
          "text": [
            "313/313 [==============================] - 6s 14ms/step - loss: 4.5807 - accuracy: 0.4161\n",
            "Test accuracy: 0.41609999537467957\n"
          ]
        }
      ]
    },
    {
      "cell_type": "code",
      "source": [
        "import tensorflow as tf\n",
        "from tensorflow.keras.datasets import cifar100\n",
        "from sklearn.model_selection import train_test_split\n",
        "from tensorflow.keras.applications import DenseNet121\n",
        "from tensorflow.keras.models import Model\n",
        "from tensorflow.keras.layers import Dense, GlobalAveragePooling2D\n",
        "\n",
        "# Load CIFAR-100 data\n",
        "(x_train_full, y_train_full), (x_test, y_test) = cifar100.load_data()\n",
        "\n",
        "# Split the data into train and validation sets\n",
        "x_train, x_val, y_train, y_val = train_test_split(x_train_full, y_train_full, test_size=0.2, random_state=20)\n",
        "\n",
        "# Normalize pixel values\n",
        "x_train = x_train.astype('float32') / 255.0\n",
        "x_val = x_val.astype('float32') / 255.0\n",
        "x_test = x_test.astype('float32') / 255.0\n",
        "\n",
        "# Convert labels to one-hot encoded vectors\n",
        "y_train = tf.keras.utils.to_categorical(y_train, 100)\n",
        "y_val = tf.keras.utils.to_categorical(y_val, 100)\n",
        "y_test = tf.keras.utils.to_categorical(y_test, 100)\n",
        "\n",
        "# Create DenseNet model\n",
        "base_model = DenseNet121(weights=None, include_top=False, input_shape=(32, 32, 3))\n",
        "\n",
        "x = GlobalAveragePooling2D()(base_model.output)\n",
        "x = Dense(100, activation='softmax')(x)\n",
        "\n",
        "model = Model(inputs=base_model.input, outputs=x)\n",
        "\n",
        "# Compile the model\n",
        "model.compile(optimizer='adam', loss='categorical_crossentropy', metrics=['accuracy'])"
      ],
      "metadata": {
        "id": "K7Dt2rS7N_-k"
      },
      "execution_count": null,
      "outputs": []
    },
    {
      "cell_type": "code",
      "source": [
        "\n",
        "\n",
        "# Train the model\n",
        "model.fit(x_train, y_train, batch_size=100, epochs=50, validation_data=(x_val, y_val))\n"
      ],
      "metadata": {
        "colab": {
          "base_uri": "https://localhost:8080/"
        },
        "id": "YbwnJNlIXUsX",
        "outputId": "aa2b81a9-7216-4364-a246-c10a9afcc3c5"
      },
      "execution_count": null,
      "outputs": [
        {
          "output_type": "stream",
          "name": "stdout",
          "text": [
            "Epoch 1/50\n",
            "400/400 [==============================] - 88s 88ms/step - loss: 3.7444 - accuracy: 0.1296 - val_loss: 4.3968 - val_accuracy: 0.0755\n",
            "Epoch 2/50\n",
            "400/400 [==============================] - 32s 79ms/step - loss: 3.0238 - accuracy: 0.2499 - val_loss: 4.1954 - val_accuracy: 0.1440\n",
            "Epoch 3/50\n",
            "400/400 [==============================] - 34s 84ms/step - loss: 2.5894 - accuracy: 0.3314 - val_loss: 3.5163 - val_accuracy: 0.2205\n",
            "Epoch 4/50\n",
            "400/400 [==============================] - 33s 81ms/step - loss: 2.2687 - accuracy: 0.4003 - val_loss: 2.8037 - val_accuracy: 0.3111\n",
            "Epoch 5/50\n",
            "400/400 [==============================] - 33s 82ms/step - loss: 1.9977 - accuracy: 0.4554 - val_loss: 3.0698 - val_accuracy: 0.2816\n",
            "Epoch 6/50\n",
            "400/400 [==============================] - 32s 81ms/step - loss: 1.7566 - accuracy: 0.5127 - val_loss: 2.6914 - val_accuracy: 0.3649\n",
            "Epoch 7/50\n",
            "400/400 [==============================] - 32s 81ms/step - loss: 1.5203 - accuracy: 0.5687 - val_loss: 3.1590 - val_accuracy: 0.3019\n",
            "Epoch 8/50\n",
            "400/400 [==============================] - 33s 82ms/step - loss: 1.2962 - accuracy: 0.6244 - val_loss: 2.4948 - val_accuracy: 0.3988\n",
            "Epoch 9/50\n",
            "400/400 [==============================] - 32s 80ms/step - loss: 1.0756 - accuracy: 0.6830 - val_loss: 2.6029 - val_accuracy: 0.3905\n",
            "Epoch 10/50\n",
            "400/400 [==============================] - 33s 83ms/step - loss: 0.8635 - accuracy: 0.7359 - val_loss: 3.0936 - val_accuracy: 0.3718\n",
            "Epoch 11/50\n",
            "400/400 [==============================] - 34s 84ms/step - loss: 0.6692 - accuracy: 0.7943 - val_loss: 2.8965 - val_accuracy: 0.3964\n",
            "Epoch 12/50\n",
            "400/400 [==============================] - 33s 82ms/step - loss: 0.5044 - accuracy: 0.8398 - val_loss: 3.2790 - val_accuracy: 0.3902\n",
            "Epoch 13/50\n",
            "400/400 [==============================] - 32s 80ms/step - loss: 0.4173 - accuracy: 0.8640 - val_loss: 3.5119 - val_accuracy: 0.3743\n",
            "Epoch 14/50\n",
            "400/400 [==============================] - 32s 81ms/step - loss: 0.3310 - accuracy: 0.8934 - val_loss: 3.6176 - val_accuracy: 0.3858\n",
            "Epoch 15/50\n",
            "400/400 [==============================] - 33s 82ms/step - loss: 0.2793 - accuracy: 0.9092 - val_loss: 3.6844 - val_accuracy: 0.3974\n",
            "Epoch 16/50\n",
            "400/400 [==============================] - 33s 82ms/step - loss: 0.2447 - accuracy: 0.9207 - val_loss: 3.6204 - val_accuracy: 0.4046\n",
            "Epoch 17/50\n",
            "400/400 [==============================] - 32s 81ms/step - loss: 0.2311 - accuracy: 0.9250 - val_loss: 3.8842 - val_accuracy: 0.3915\n",
            "Epoch 18/50\n",
            "400/400 [==============================] - 33s 84ms/step - loss: 0.2052 - accuracy: 0.9324 - val_loss: 4.2202 - val_accuracy: 0.3737\n",
            "Epoch 19/50\n",
            "400/400 [==============================] - 32s 80ms/step - loss: 0.2109 - accuracy: 0.9315 - val_loss: 3.9467 - val_accuracy: 0.3976\n",
            "Epoch 20/50\n",
            "400/400 [==============================] - 33s 82ms/step - loss: 0.1796 - accuracy: 0.9404 - val_loss: 4.0488 - val_accuracy: 0.3971\n",
            "Epoch 21/50\n",
            "400/400 [==============================] - 32s 80ms/step - loss: 0.1719 - accuracy: 0.9438 - val_loss: 4.0489 - val_accuracy: 0.3948\n",
            "Epoch 22/50\n",
            "400/400 [==============================] - 33s 82ms/step - loss: 0.1376 - accuracy: 0.9549 - val_loss: 4.0346 - val_accuracy: 0.4169\n",
            "Epoch 23/50\n",
            "400/400 [==============================] - 32s 79ms/step - loss: 0.1824 - accuracy: 0.9409 - val_loss: 4.2041 - val_accuracy: 0.3997\n",
            "Epoch 24/50\n",
            "400/400 [==============================] - 33s 84ms/step - loss: 0.1424 - accuracy: 0.9539 - val_loss: 3.8647 - val_accuracy: 0.4329\n",
            "Epoch 25/50\n",
            "400/400 [==============================] - 34s 84ms/step - loss: 0.1327 - accuracy: 0.9562 - val_loss: 4.9694 - val_accuracy: 0.3592\n",
            "Epoch 26/50\n",
            "400/400 [==============================] - 32s 80ms/step - loss: 0.1580 - accuracy: 0.9484 - val_loss: 4.5565 - val_accuracy: 0.3829\n",
            "Epoch 27/50\n",
            "400/400 [==============================] - 32s 80ms/step - loss: 0.1192 - accuracy: 0.9609 - val_loss: 4.3900 - val_accuracy: 0.3978\n",
            "Epoch 28/50\n",
            "400/400 [==============================] - 33s 83ms/step - loss: 0.1110 - accuracy: 0.9638 - val_loss: 4.3321 - val_accuracy: 0.4043\n",
            "Epoch 29/50\n",
            "400/400 [==============================] - 33s 82ms/step - loss: 0.1482 - accuracy: 0.9509 - val_loss: 4.8493 - val_accuracy: 0.3930\n",
            "Epoch 30/50\n",
            "400/400 [==============================] - 32s 79ms/step - loss: 0.1235 - accuracy: 0.9589 - val_loss: 4.2891 - val_accuracy: 0.4242\n",
            "Epoch 31/50\n",
            "400/400 [==============================] - 33s 83ms/step - loss: 0.1037 - accuracy: 0.9662 - val_loss: 4.4428 - val_accuracy: 0.4236\n",
            "Epoch 32/50\n",
            "400/400 [==============================] - 32s 80ms/step - loss: 0.0872 - accuracy: 0.9711 - val_loss: 4.4710 - val_accuracy: 0.4079\n",
            "Epoch 33/50\n",
            "400/400 [==============================] - 32s 80ms/step - loss: 0.1080 - accuracy: 0.9651 - val_loss: 4.5714 - val_accuracy: 0.4083\n",
            "Epoch 34/50\n",
            "400/400 [==============================] - 33s 84ms/step - loss: 0.1181 - accuracy: 0.9625 - val_loss: 4.1502 - val_accuracy: 0.4391\n",
            "Epoch 35/50\n",
            "400/400 [==============================] - 32s 80ms/step - loss: 0.0908 - accuracy: 0.9695 - val_loss: 4.4038 - val_accuracy: 0.4276\n",
            "Epoch 36/50\n",
            "400/400 [==============================] - 32s 80ms/step - loss: 0.0982 - accuracy: 0.9681 - val_loss: 5.0294 - val_accuracy: 0.3918\n",
            "Epoch 37/50\n",
            "400/400 [==============================] - 32s 80ms/step - loss: 0.1023 - accuracy: 0.9669 - val_loss: 4.3964 - val_accuracy: 0.4318\n",
            "Epoch 38/50\n",
            "400/400 [==============================] - 32s 80ms/step - loss: 0.0967 - accuracy: 0.9683 - val_loss: 4.3873 - val_accuracy: 0.4343\n",
            "Epoch 39/50\n",
            "400/400 [==============================] - 32s 79ms/step - loss: 0.0789 - accuracy: 0.9753 - val_loss: 4.8546 - val_accuracy: 0.3982\n",
            "Epoch 40/50\n",
            "400/400 [==============================] - 32s 80ms/step - loss: 0.0783 - accuracy: 0.9754 - val_loss: 4.4556 - val_accuracy: 0.4268\n",
            "Epoch 41/50\n",
            "400/400 [==============================] - 34s 84ms/step - loss: 0.0965 - accuracy: 0.9681 - val_loss: 4.4683 - val_accuracy: 0.4347\n",
            "Epoch 42/50\n",
            "400/400 [==============================] - 32s 79ms/step - loss: 0.0867 - accuracy: 0.9724 - val_loss: 4.4446 - val_accuracy: 0.4281\n",
            "Epoch 43/50\n",
            "400/400 [==============================] - 32s 80ms/step - loss: 0.0824 - accuracy: 0.9732 - val_loss: 4.5025 - val_accuracy: 0.4251\n",
            "Epoch 44/50\n",
            "400/400 [==============================] - 33s 83ms/step - loss: 0.0774 - accuracy: 0.9745 - val_loss: 4.6527 - val_accuracy: 0.4062\n",
            "Epoch 45/50\n",
            "400/400 [==============================] - 33s 82ms/step - loss: 0.0689 - accuracy: 0.9779 - val_loss: 4.6512 - val_accuracy: 0.4259\n",
            "Epoch 46/50\n",
            "400/400 [==============================] - 33s 82ms/step - loss: 0.0783 - accuracy: 0.9748 - val_loss: 4.6944 - val_accuracy: 0.4216\n",
            "Epoch 47/50\n",
            "400/400 [==============================] - 32s 80ms/step - loss: 0.0903 - accuracy: 0.9708 - val_loss: 4.5711 - val_accuracy: 0.4248\n",
            "Epoch 48/50\n",
            "400/400 [==============================] - 33s 81ms/step - loss: 0.0740 - accuracy: 0.9757 - val_loss: 4.9466 - val_accuracy: 0.4144\n",
            "Epoch 49/50\n",
            "400/400 [==============================] - 32s 79ms/step - loss: 0.0569 - accuracy: 0.9817 - val_loss: 4.6425 - val_accuracy: 0.4329\n",
            "Epoch 50/50\n",
            "400/400 [==============================] - 33s 84ms/step - loss: 0.0488 - accuracy: 0.9842 - val_loss: 4.4945 - val_accuracy: 0.4434\n"
          ]
        },
        {
          "output_type": "execute_result",
          "data": {
            "text/plain": [
              "<keras.src.callbacks.History at 0x7cfa64ecd2d0>"
            ]
          },
          "metadata": {},
          "execution_count": 12
        }
      ]
    },
    {
      "cell_type": "code",
      "source": [
        "# Evaluate the model on the test set\n",
        "loss, accuracy = model.evaluate(x_test,y_test)\n",
        "print(f'Test accuracy: {accuracy}')"
      ],
      "metadata": {
        "colab": {
          "base_uri": "https://localhost:8080/"
        },
        "id": "GAtynGo7XU2u",
        "outputId": "68702176-365d-4b29-f578-24292e70feb1"
      },
      "execution_count": null,
      "outputs": [
        {
          "output_type": "stream",
          "name": "stdout",
          "text": [
            "313/313 [==============================] - 7s 14ms/step - loss: 4.4069 - accuracy: 0.4496\n",
            "Test accuracy: 0.4496000111103058\n"
          ]
        }
      ]
    }
  ]
}