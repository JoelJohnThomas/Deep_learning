{
 "cells": [
  {
   "cell_type": "code",
   "execution_count": 168,
   "id": "be060b74",
   "metadata": {},
   "outputs": [
    {
     "name": "stdout",
     "output_type": "stream",
     "text": [
      "Accuracy: 0.6334056399132321\n"
     ]
    }
   ],
   "source": [
    "import pandas as pd\n",
    "import numpy as np\n",
    "from pprint import pprint\n",
    "from sklearn.metrics import accuracy_score\n",
    "\n",
    "# Import dataset from the csv file\n",
    "df = pd.read_csv('diabetes.csv')\n",
    "X = df.iloc[:, :-1].values\n",
    "y = df.iloc[:, -1].values\n",
    "\n",
    "from sklearn.model_selection import train_test_split\n",
    "\n",
    "#Splitting the data into test and train data subsets\n",
    "\n",
    "X_train, X_test, y_train, y_test = train_test_split(X, y, train_size=0.4, random_state=54656323, shuffle=True)\n",
    "\n",
    "#Perceptron class\n",
    "\n",
    "class Perceptron:\n",
    "    \n",
    "    def __init__(self, learning_rate = 0.1, n_iter = 2000):\n",
    "        \n",
    "        self.learning_rate = learning_rate\n",
    "        self.n_iter = n_iter\n",
    "        self.weights = None\n",
    "        self.bias = None\n",
    "\n",
    "    #initialises weights, does dot product with subsets of X\n",
    "    def fit(self, X, y ):\n",
    "        n_rows, n_cols = X.shape\n",
    "        self.weights = np.zeros(n_cols)\n",
    "        self.bias = 0\n",
    "        \n",
    "        for j in range(1000):\n",
    "            \n",
    "            for i in range(n_rows):\n",
    "                y_proj = np.dot(X[i], self.weights) + self.bias\n",
    "                if y_proj >= 0:\n",
    "                    activation = 1\n",
    "                else:\n",
    "                    activation = 0\n",
    "\n",
    "                update = self.learning_rate * (y[i]-activation)\n",
    "                self.weights += update*X[i]\n",
    "                self.bias += update\n",
    "\n",
    "    def predict(self, X):\n",
    "        \n",
    "        y_pred = np.dot(X, self.weights)+self.bias\n",
    "        return (y_pred >= 0).astype(int)\n",
    "        \n",
    "perceptron = Perceptron(learning_rate=0.8, n_iter=2000)\n",
    "perceptron.fit(X_train, y_train)\n",
    "y_pred_train = perceptron.predict(X_train)\n",
    "\n",
    "\n",
    "\n",
    "y_pred_test = perceptron.predict(X_test)\n",
    "accuracy = accuracy_score(y_test, y_pred_test)\n",
    "print(\"Accuracy:\", accuracy)\n",
    "\n",
    "\n",
    "        \n",
    "    \n",
    "    \n"
   ]
  },
  {
   "cell_type": "markdown",
   "id": "529523db",
   "metadata": {},
   "source": [
    "learning rate, test_train_split is constant (0.001, 0.4)\n",
    "n_iterations  = 20 | accuracy = 0.36\n",
    "n_iterations = 200 | accuracy = 0.65\n",
    "n_iterations = 2000 | accuracy = 0.63\n",
    "n_iterations = 20000 | accuracy = 0.0.64\n",
    "\n",
    "learning rate, test_train_split is constant (0.1, 0.4)\n",
    "n_iterations  = 20 | accuracy = 0.39\n",
    "n_iterations = 200 | accuracy = 0.64\n",
    "n_iterations = 2000 | accuracy = 0.41\n",
    "n_iterations = 20000 | accuracy = 0.64\n",
    "\n",
    "\n",
    "n_iterations, test_train_split is constant (2000, 0.4)\n",
    "learning_rate = 0.0001 |  accuracy = 0.66\n",
    "learning_rate = 0.001 |  accuracy = 0.67\n",
    "learning_rate = 0.01 | accuracy = 0.65\n",
    "learning_rate = 0.1 | accuracy = 0.58\n",
    "learning_rate = 0.2 | accuracy = 0.64\n",
    "learning_rate = 0.6 | accuracy = 0.66\n",
    "learning_rate = 0.8 | accuracy = 0.63"
   ]
  }
 ],
 "metadata": {
  "kernelspec": {
   "display_name": "Python 3 (ipykernel)",
   "language": "python",
   "name": "python3"
  },
  "language_info": {
   "codemirror_mode": {
    "name": "ipython",
    "version": 3
   },
   "file_extension": ".py",
   "mimetype": "text/x-python",
   "name": "python",
   "nbconvert_exporter": "python",
   "pygments_lexer": "ipython3",
   "version": "3.10.9"
  }
 },
 "nbformat": 4,
 "nbformat_minor": 5
}
